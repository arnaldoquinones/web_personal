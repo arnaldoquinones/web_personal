{
 "cells": [
  {
   "cell_type": "code",
   "execution_count": 1,
   "metadata": {},
   "outputs": [
    {
     "name": "stderr",
     "output_type": "stream",
     "text": [
      "2024-10-13 19:03:34.504 Thread 'MainThread': missing ScriptRunContext! This warning can be ignored when running in bare mode.\n",
      "2024-10-13 19:03:34.691 \n",
      "  \u001b[33m\u001b[1mWarning:\u001b[0m to view this Streamlit app on a browser, run it with the following\n",
      "  command:\n",
      "\n",
      "    streamlit run c:\\Users\\Arnaldo\\anaconda3\\Lib\\site-packages\\ipykernel_launcher.py [ARGUMENTS]\n",
      "2024-10-13 19:03:34.691 Thread 'MainThread': missing ScriptRunContext! This warning can be ignored when running in bare mode.\n"
     ]
    },
    {
     "ename": "FileNotFoundError",
     "evalue": "No secrets found. Valid paths for a secrets.toml file or secret directories are: C:\\Users\\Arnaldo\\.streamlit\\secrets.toml, d:\\Users\\Arnaldo\\Desktop\\SISTEMAS\\practicas\\practicas_apis\\FASTAPI\\proyecto\\views\\.streamlit\\secrets.toml",
     "output_type": "error",
     "traceback": [
      "\u001b[1;31m---------------------------------------------------------------------------\u001b[0m",
      "\u001b[1;31mFileNotFoundError\u001b[0m                         Traceback (most recent call last)",
      "Cell \u001b[1;32mIn[1], line 6\u001b[0m\n\u001b[0;32m      2\u001b[0m \u001b[38;5;28;01mimport\u001b[39;00m \u001b[38;5;21;01mstreamlit\u001b[39;00m \u001b[38;5;28;01mas\u001b[39;00m \u001b[38;5;21;01mst\u001b[39;00m\n\u001b[0;32m      3\u001b[0m \u001b[38;5;28;01mimport\u001b[39;00m \u001b[38;5;21;01mrequests\u001b[39;00m  \u001b[38;5;66;03m# pip install requests\u001b[39;00m\n\u001b[1;32m----> 6\u001b[0m WEBHOOK_URL \u001b[38;5;241m=\u001b[39m st\u001b[38;5;241m.\u001b[39msecrets[\u001b[38;5;124m\"\u001b[39m\u001b[38;5;124mWEBHOOK_URL\u001b[39m\u001b[38;5;124m\"\u001b[39m]\n\u001b[0;32m      9\u001b[0m \u001b[38;5;28;01mdef\u001b[39;00m \u001b[38;5;21mis_valid_email\u001b[39m(email):\n\u001b[0;32m     10\u001b[0m     \u001b[38;5;66;03m# Basic regex pattern for email validation\u001b[39;00m\n\u001b[0;32m     11\u001b[0m     email_pattern \u001b[38;5;241m=\u001b[39m \u001b[38;5;124mr\u001b[39m\u001b[38;5;124m\"\u001b[39m\u001b[38;5;124m^[a-zA-Z0-9_.+-]+@[a-zA-Z0-9-]+\u001b[39m\u001b[38;5;124m\\\u001b[39m\u001b[38;5;124m.[a-zA-Z0-9-.]+$\u001b[39m\u001b[38;5;124m\"\u001b[39m\n",
      "File \u001b[1;32mc:\\Users\\Arnaldo\\anaconda3\\Lib\\site-packages\\streamlit\\runtime\\secrets.py:491\u001b[0m, in \u001b[0;36mSecrets.__getitem__\u001b[1;34m(self, key)\u001b[0m\n\u001b[0;32m    485\u001b[0m \u001b[38;5;250m\u001b[39m\u001b[38;5;124;03m\"\"\"Return the value with the given key. If no such key\u001b[39;00m\n\u001b[0;32m    486\u001b[0m \u001b[38;5;124;03mexists, raise a KeyError.\u001b[39;00m\n\u001b[0;32m    487\u001b[0m \n\u001b[0;32m    488\u001b[0m \u001b[38;5;124;03mThread-safe.\u001b[39;00m\n\u001b[0;32m    489\u001b[0m \u001b[38;5;124;03m\"\"\"\u001b[39;00m\n\u001b[0;32m    490\u001b[0m \u001b[38;5;28;01mtry\u001b[39;00m:\n\u001b[1;32m--> 491\u001b[0m     value \u001b[38;5;241m=\u001b[39m \u001b[38;5;28mself\u001b[39m\u001b[38;5;241m.\u001b[39m_parse()[key]\n\u001b[0;32m    492\u001b[0m     \u001b[38;5;28;01mif\u001b[39;00m \u001b[38;5;129;01mnot\u001b[39;00m \u001b[38;5;28misinstance\u001b[39m(value, Mapping):\n\u001b[0;32m    493\u001b[0m         \u001b[38;5;28;01mreturn\u001b[39;00m value\n",
      "File \u001b[1;32mc:\\Users\\Arnaldo\\anaconda3\\Lib\\site-packages\\streamlit\\runtime\\secrets.py:393\u001b[0m, in \u001b[0;36mSecrets._parse\u001b[1;34m(self)\u001b[0m\n\u001b[0;32m    387\u001b[0m     error_msg \u001b[38;5;241m=\u001b[39m (\n\u001b[0;32m    388\u001b[0m         secret_error_messages_singleton\u001b[38;5;241m.\u001b[39mget_no_secrets_found_message(\n\u001b[0;32m    389\u001b[0m             file_paths\n\u001b[0;32m    390\u001b[0m         )\n\u001b[0;32m    391\u001b[0m     )\n\u001b[0;32m    392\u001b[0m     \u001b[38;5;28mself\u001b[39m\u001b[38;5;241m.\u001b[39m_print_exception_if_not_suppressed(error_msg)\n\u001b[1;32m--> 393\u001b[0m     \u001b[38;5;28;01mraise\u001b[39;00m \u001b[38;5;167;01mFileNotFoundError\u001b[39;00m(error_msg)\n\u001b[0;32m    395\u001b[0m \u001b[38;5;28;01mfor\u001b[39;00m k, v \u001b[38;5;129;01min\u001b[39;00m secrets\u001b[38;5;241m.\u001b[39mitems():\n\u001b[0;32m    396\u001b[0m     \u001b[38;5;28mself\u001b[39m\u001b[38;5;241m.\u001b[39m_maybe_set_environment_variable(k, v)\n",
      "\u001b[1;31mFileNotFoundError\u001b[0m: No secrets found. Valid paths for a secrets.toml file or secret directories are: C:\\Users\\Arnaldo\\.streamlit\\secrets.toml, d:\\Users\\Arnaldo\\Desktop\\SISTEMAS\\practicas\\practicas_apis\\FASTAPI\\proyecto\\views\\.streamlit\\secrets.toml"
     ]
    }
   ],
   "source": [
    "import re\n",
    "import streamlit as st\n",
    "import requests  # pip install requests\n",
    "\n",
    "\n",
    "WEBHOOK_URL = st.secrets[\"WEBHOOK_URL\"]\n",
    "\n",
    "\n",
    "def is_valid_email(email):\n",
    "    # Basic regex pattern for email validation\n",
    "    email_pattern = r\"^[a-zA-Z0-9_.+-]+@[a-zA-Z0-9-]+\\.[a-zA-Z0-9-.]+$\"\n",
    "    return re.match(email_pattern, email) is not None\n",
    "\n",
    "\n",
    "def contact_form():\n",
    "    with st.form(\"contact_form\"):\n",
    "        name = st.text_input(\"First Name\")\n",
    "        email = st.text_input(\"Email Address\")\n",
    "        message = st.text_area(\"Your Message\")\n",
    "        submit_button = st.form_submit_button(\"Submit\")\n",
    "\n",
    "    if submit_button:\n",
    "        if not WEBHOOK_URL:\n",
    "            st.error(\"Email service is not set up. Please try again later.\", icon=\"📧\")\n",
    "            st.stop()\n",
    "\n",
    "        if not name:\n",
    "            st.error(\"Please provide your name.\", icon=\"🧑\")\n",
    "            st.stop()\n",
    "\n",
    "        if not email:\n",
    "            st.error(\"Please provide your email address.\", icon=\"📨\")\n",
    "            st.stop()\n",
    "\n",
    "        if not is_valid_email(email):\n",
    "            st.error(\"Please provide a valid email address.\", icon=\"📧\")\n",
    "            st.stop()\n",
    "\n",
    "        if not message:\n",
    "            st.error(\"Please provide a message.\", icon=\"💬\")\n",
    "            st.stop()\n",
    "\n",
    "        # Prepare the data payload and send it to the specified webhook URL\n",
    "        data = {\"email\": email, \"name\": name, \"message\": message}\n",
    "        response = requests.post(WEBHOOK_URL, json=data)\n",
    "\n",
    "        if response.status_code == 200:\n",
    "            st.success(\"Your message has been sent successfully! 🎉\", icon=\"🚀\")\n",
    "        else:\n",
    "            st.error(\"There was an error sending your message.\", icon=\"😨\")"
   ]
  }
 ],
 "metadata": {
  "kernelspec": {
   "display_name": "base",
   "language": "python",
   "name": "python3"
  },
  "language_info": {
   "codemirror_mode": {
    "name": "ipython",
    "version": 3
   },
   "file_extension": ".py",
   "mimetype": "text/x-python",
   "name": "python",
   "nbconvert_exporter": "python",
   "pygments_lexer": "ipython3",
   "version": "3.11.5"
  }
 },
 "nbformat": 4,
 "nbformat_minor": 2
}
